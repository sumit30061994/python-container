{
 "cells": [
  {
   "cell_type": "code",
   "execution_count": 1,
   "metadata": {},
   "outputs": [
    {
     "name": "stdout",
     "output_type": "stream",
     "text": [
      "48.0\n"
     ]
    }
   ],
   "source": [
    "\"\"\"\n",
    "1.1\n",
    "Write a Python Program(with class concepts) to find the area of the triangle using the below\n",
    "formula.\n",
    "area = (s*(s-a)*(s-b)*(s-c)) ** 0.5\n",
    "Function to take the length of the sides of triangle from user should be defined in the parent\n",
    "class and function to calculate the area should be defined in subclass.\n",
    "\"\"\"\n",
    "\n",
    "class Triangle:\n",
    "    \n",
    "    def __init__(self,a,b,c):\n",
    "        \n",
    "        self.a = a \n",
    "        self.b = b\n",
    "        self.c = c \n",
    "    \n",
    "class TriangleArea(Triangle):\n",
    "    \n",
    "    def __init__(self,a,b,c):\n",
    "        \n",
    "        Triangle.__init__(self,a,b,c)\n",
    "        \n",
    "    def calculate_area(self):\n",
    "        \n",
    "        s = (self.a + self.b + self.c) / 2\n",
    "        areacount = (s*(s - self.a) * (s - self.b) * (s - self.c))\n",
    "        return areacount\n",
    "    \n",
    "tri = TriangleArea(4, 4, 4)\n",
    "print(float(tri.calculate_area()))"
   ]
  },
  {
   "cell_type": "code",
   "execution_count": 2,
   "metadata": {},
   "outputs": [
    {
     "data": {
      "text/plain": [
       "['dog', 'cat', 'wannabe']"
      ]
     },
     "execution_count": 2,
     "metadata": {},
     "output_type": "execute_result"
    }
   ],
   "source": [
    "\"\"\"\n",
    "1.2\n",
    "Write a function filter_long_words() that takes a list of words and an integer n and returns the list\n",
    "of words that are longer than n.\n",
    "\"\"\"\n",
    "\n",
    "def filter_longword(word, n):\n",
    "    \n",
    "    out = [i for i in word if len(i) > n]\n",
    "    return out\n",
    "        \n",
    "filter_longword(['dog', 'cat', 'is', 'a', 'wannabe'], 2)"
   ]
  },
  {
   "cell_type": "code",
   "execution_count": 3,
   "metadata": {},
   "outputs": [
    {
     "name": "stdout",
     "output_type": "stream",
     "text": [
      "[2, 3, 4]\n"
     ]
    }
   ],
   "source": [
    "\"\"\"\n",
    "2.1\n",
    "Write a Python program using function concept that maps list of words into a list of integers\n",
    "representing the lengths of the corresponding words.\n",
    "Hint: ​If a list [ ab,cde,erty] is passed on to the python function output should come as [2,3,4]\n",
    "Here 2,3 and 4 are the lengths of the words in the list.\n",
    "\"\"\"\n",
    "\n",
    "def count(word):\n",
    "    return len(word)\n",
    "\n",
    "list_of_string_of_word = ['ab', 'cde', 'erty']\n",
    "s = map(count, list_of_string_of_word)\n",
    "print(list(s))"
   ]
  },
  {
   "cell_type": "code",
   "execution_count": 4,
   "metadata": {},
   "outputs": [
    {
     "name": "stdout",
     "output_type": "stream",
     "text": [
      "enter character:U\n",
      "True\n"
     ]
    }
   ],
   "source": [
    "\"\"\"\n",
    "Write a Python function which takes a character (i.e. a string of length 1) and returns True if it is\n",
    "a vowel, False otherwise.\n",
    "\"\"\"\n",
    "\n",
    "def func(character):\n",
    "    vowel = [\"a\", \"e\", \"i\", \"o\", \"u\"]\n",
    "    character = character.lower()\n",
    "    if character in vowel:\n",
    "        return True\n",
    "    else:\n",
    "        return False\n",
    "char = input(\"enter character:\")\n",
    "print(func(char))"
   ]
  },
  {
   "cell_type": "code",
   "execution_count": null,
   "metadata": {},
   "outputs": [],
   "source": []
  }
 ],
 "metadata": {
  "kernelspec": {
   "display_name": "Python 3",
   "language": "python",
   "name": "python3"
  },
  "language_info": {
   "codemirror_mode": {
    "name": "ipython",
    "version": 3
   },
   "file_extension": ".py",
   "mimetype": "text/x-python",
   "name": "python",
   "nbconvert_exporter": "python",
   "pygments_lexer": "ipython3",
   "version": "3.7.4"
  }
 },
 "nbformat": 4,
 "nbformat_minor": 2
}
