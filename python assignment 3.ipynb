{
 "cells": [
  {
   "cell_type": "code",
   "execution_count": 18,
   "metadata": {},
   "outputs": [
    {
     "data": {
      "text/plain": [
       "6"
      ]
     },
     "execution_count": 18,
     "metadata": {},
     "output_type": "execute_result"
    }
   ],
   "source": [
    "\"\"\"\n",
    "Write a Python Program to implement your own myreduce() function which works exactly like\n",
    "Python's built-in function reduce()\n",
    "\"\"\"\n",
    "def sum_of_num(list_of_num):\n",
    "    sum=0\n",
    "    for i in list_of_num:\n",
    "        sum=sum+i\n",
    "    return sum\n",
    "    \n",
    "def myreduce(func,list_of_num):\n",
    "    return func(list_of_num)\n",
    "    \n",
    "list_of_num = [1,2,3]\n",
    "myreduce(sum_of_num,list_of_num)"
   ]
  },
  {
   "cell_type": "code",
   "execution_count": 19,
   "metadata": {},
   "outputs": [
    {
     "name": "stdout",
     "output_type": "stream",
     "text": [
      "1\n",
      "3\n",
      "5\n",
      "13\n"
     ]
    }
   ],
   "source": [
    "\"\"\"\n",
    "Write a Python program to implement your own myfilter() function which works exactly like\n",
    "Python's built-in function filter()\n",
    "Here to check odd numbers in a list of numbers.\n",
    "using filter() the program would be:\n",
    "seq = [0, 1, 2, 3, 5, 8, 13]\n",
    "result = filter(check_odd , seq) \n",
    "for i in result:\n",
    "    print(i)\n",
    "output:\n",
    "1\n",
    "3\n",
    "5\n",
    "13\n",
    "\"\"\"\n",
    "\n",
    "seq = [0, 1, 2, 3, 5, 8, 13]\n",
    "\n",
    "def check_odd(num):\n",
    "    if num % 2 == 0:\n",
    "        return False\n",
    "    else:\n",
    "        return True\n",
    "\n",
    "def myfilter(seq):\n",
    "    for i in seq:\n",
    "        if check_odd(i):\n",
    "            print(i)\n",
    "        else:\n",
    "            pass\n",
    "    \n",
    "myfilter(seq)"
   ]
  },
  {
   "cell_type": "code",
   "execution_count": 20,
   "metadata": {},
   "outputs": [
    {
     "name": "stdout",
     "output_type": "stream",
     "text": [
      "['x', 'xx', 'xxx', 'xxxx', 'y', 'yy', 'yyy', 'yyyy', 'z', 'zz', 'zzz', 'zzzz']\n",
      "['x', 'y', 'z', 'xx', 'yy', 'zz', 'xxx', 'yyy', 'zzz', 'xxxx', 'yyyy', 'zzzz']\n",
      "[[2], [3], [4], [3], [4], [5], [4], [5], [6]]\n",
      "[[2, 3, 4, 5], [3, 4, 5, 6], [4, 5, 6, 7], [5, 6, 7, 8]]\n",
      "[(1, 1), (2, 1), (3, 1), (1, 2), (2, 2), (3, 2), (1, 3), (2, 3), (3, 3)]\n"
     ]
    }
   ],
   "source": [
    "\"\"\"\n",
    "Implement List comprehensions to produce the following lists.\n",
    "Write List comprehensions to produce the following Lists\n",
    "\n",
    "['x', 'xx', 'xxx', 'xxxx', 'y', 'yy', 'yyy', 'yyyy', 'z', 'zz', 'zzz', 'zzzz']\n",
    "['x', 'y', 'z', 'xx', 'yy', 'zz', 'xx', 'yy', 'zz', 'xxxx', 'yyyy', 'zzzz']\n",
    "[[2], [3], [4], [3], [4], [5], [4], [5], [6]]\n",
    "[[2, 3, 4, 5], [3, 4, 5, 6], [4, 5, 6, 7], [5, 6, 7, 8]]\n",
    "[(1, 1), (2, 1), (3, 1), (1, 2), (2, 2), (3, 2), (1, 3), (2, 3), (3, 3)]\n",
    "\n",
    "\"\"\"\n",
    "\n",
    "list_of_string = ['x', 'y', 'z']\n",
    "a = [j*i  for j in list_of_string for i in range(1,5)]\n",
    "print(a)\n",
    "\n",
    "\n",
    "b = [j*i for i in range(1,5) for j in list_of_string]\n",
    "print(b)\n",
    "\n",
    "\n",
    "l=[1,2,3]\n",
    "c = [[i+j] for j in l for i in range(1,4)]\n",
    "print(c)\n",
    "\n",
    "\n",
    "nlist = [2, 3, 4, 5]\n",
    "d = [[i+j for j in nlist] for i in range(0,4)]\n",
    "print(d)\n",
    "\n",
    "\n",
    "tuplist = [1,2,3]\n",
    "e = [(i,j) for j in tuplist for i in range(1,4)]\n",
    "print(e)\n",
    "\n"
   ]
  },
  {
   "cell_type": "code",
   "execution_count": 10,
   "metadata": {},
   "outputs": [
    {
     "data": {
      "text/plain": [
       "'dog'"
      ]
     },
     "execution_count": 10,
     "metadata": {},
     "output_type": "execute_result"
    }
   ],
   "source": [
    "\"\"\"\n",
    "Implement a function longestWord() that takes a list of words and returns the longest one.\n",
    "\"\"\"\n",
    "\n",
    "def longestWord(list_word):\n",
    "    l = max(map(len, list_word))\n",
    "    for i in list_word:\n",
    "        if len(i) == l:\n",
    "            return i\n",
    "        else:\n",
    "            pass\n",
    "longestWord([\"dog\", \"is\", \"a\"])"
   ]
  },
  {
   "cell_type": "code",
   "execution_count": null,
   "metadata": {},
   "outputs": [],
   "source": []
  }
 ],
 "metadata": {
  "kernelspec": {
   "display_name": "Python 3",
   "language": "python",
   "name": "python3"
  },
  "language_info": {
   "codemirror_mode": {
    "name": "ipython",
    "version": 3
   },
   "file_extension": ".py",
   "mimetype": "text/x-python",
   "name": "python",
   "nbconvert_exporter": "python",
   "pygments_lexer": "ipython3",
   "version": "3.7.4"
  }
 },
 "nbformat": 4,
 "nbformat_minor": 2
}
